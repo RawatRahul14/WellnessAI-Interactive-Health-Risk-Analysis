{
 "cells": [
  {
   "cell_type": "code",
   "execution_count": 1,
   "metadata": {},
   "outputs": [
    {
     "data": {
      "text/plain": [
       "'c:\\\\Users\\\\rahul\\\\Desktop\\\\Project Sem 2\\\\Data viz Project 2\\\\WellnessAI-Interactive-Health-Risk-Analysis\\\\Research'"
      ]
     },
     "execution_count": 1,
     "metadata": {},
     "output_type": "execute_result"
    }
   ],
   "source": [
    "%pwd"
   ]
  },
  {
   "cell_type": "code",
   "execution_count": 2,
   "metadata": {},
   "outputs": [],
   "source": [
    "import os"
   ]
  },
  {
   "cell_type": "code",
   "execution_count": 4,
   "metadata": {},
   "outputs": [],
   "source": [
    "os.chdir(\"../\")"
   ]
  },
  {
   "cell_type": "code",
   "execution_count": 5,
   "metadata": {},
   "outputs": [
    {
     "data": {
      "text/plain": [
       "'c:\\\\Users\\\\rahul\\\\Desktop\\\\Project Sem 2\\\\Data viz Project 2\\\\WellnessAI-Interactive-Health-Risk-Analysis'"
      ]
     },
     "execution_count": 5,
     "metadata": {},
     "output_type": "execute_result"
    }
   ],
   "source": [
    "%pwd"
   ]
  },
  {
   "cell_type": "code",
   "execution_count": 9,
   "metadata": {},
   "outputs": [],
   "source": [
    "train_data_path = \"Dataset/Data_transformation/train.csv\"\n",
    "test_data_path = \"Dataset/Data_transformation/test.csv\"\n",
    "target_col = \"Diabetes_012\"\n",
    "dir_path = \"Dataset/Model_selection\""
   ]
  },
  {
   "cell_type": "code",
   "execution_count": 16,
   "metadata": {},
   "outputs": [
    {
     "name": "stdout",
     "output_type": "stream",
     "text": [
      "[2024-08-15 16:37:55,173: INFO: common: created directory at: Dataset/Model_selection]\n",
      "[2024-08-15 16:37:56,304: INFO: 1534907791: Data is loaded.]\n",
      "[2024-08-15 16:37:56,336: INFO: 1534907791: Preprocessing done.]\n",
      "Epoch 1/10\n",
      "2849/2849 [==============================] - 19s 6ms/step - loss: 0.6884 - accuracy: 0.6623 - val_loss: 0.6375 - val_accuracy: 0.6841\n",
      "Epoch 2/10\n",
      "2849/2849 [==============================] - 18s 6ms/step - loss: 0.6252 - accuracy: 0.6942 - val_loss: 0.6011 - val_accuracy: 0.7051\n",
      "Epoch 3/10\n",
      "2849/2849 [==============================] - 18s 6ms/step - loss: 0.6092 - accuracy: 0.7031 - val_loss: 0.5931 - val_accuracy: 0.7101\n",
      "Epoch 4/10\n",
      "2849/2849 [==============================] - 18s 6ms/step - loss: 0.6072 - accuracy: 0.7060 - val_loss: 0.6104 - val_accuracy: 0.7060\n",
      "Epoch 5/10\n",
      "2849/2849 [==============================] - 18s 6ms/step - loss: 0.5985 - accuracy: 0.7113 - val_loss: 0.6338 - val_accuracy: 0.6949\n",
      "Epoch 6/10\n",
      "2849/2849 [==============================] - 18s 6ms/step - loss: 0.5995 - accuracy: 0.7116 - val_loss: 0.5852 - val_accuracy: 0.7171\n",
      "Epoch 7/10\n",
      "2849/2849 [==============================] - 18s 6ms/step - loss: 0.5878 - accuracy: 0.7175 - val_loss: 0.5939 - val_accuracy: 0.7133\n",
      "Epoch 8/10\n",
      "2849/2849 [==============================] - 18s 6ms/step - loss: 0.5837 - accuracy: 0.7207 - val_loss: 0.5768 - val_accuracy: 0.7241\n",
      "Epoch 9/10\n",
      "2849/2849 [==============================] - 18s 6ms/step - loss: 0.5777 - accuracy: 0.7245 - val_loss: 0.5764 - val_accuracy: 0.7228\n",
      "Epoch 10/10\n",
      "2849/2849 [==============================] - 18s 6ms/step - loss: 0.5714 - accuracy: 0.7277 - val_loss: 0.5723 - val_accuracy: 0.7249\n",
      "2849/2849 [==============================] - 6s 2ms/step - loss: 0.5723 - accuracy: 0.7249\n",
      "[2024-08-15 16:41:03,262: INFO: 1534907791: Model Accuracy: 0.7249]\n",
      "[2024-08-15 16:41:03,311: INFO: 1534907791: Model saved.]\n"
     ]
    }
   ],
   "source": [
    "import numpy as np\n",
    "import pandas as pd\n",
    "from tensorflow.keras.models import Model\n",
    "from tensorflow.keras.layers import Input, Conv2D, MaxPooling2D, Flatten, Dense, BatchNormalization, Dropout, Concatenate\n",
    "from tensorflow.keras.utils import to_categorical\n",
    "from ml_Project import logger\n",
    "from ml_Project.utils.common import create_directories\n",
    "\n",
    "class ModelTrainer:\n",
    "    def __init__(self, train_data_path, test_data_path, target_col, dir_path):\n",
    "        self.train_data_path = train_data_path\n",
    "        self.test_data_path = test_data_path\n",
    "        self.target_col = target_col\n",
    "        self.dir_path = dir_path\n",
    "\n",
    "    def create_dir(self):\n",
    "        create_directories([self.dir_path])\n",
    "\n",
    "    def load_data(self):\n",
    "        train_data = pd.read_csv(self.train_data_path)\n",
    "        test_data = pd.read_csv(self.test_data_path)\n",
    "        logger.info(\"Data is loaded.\")\n",
    "        return train_data, test_data\n",
    "\n",
    "    def preprocess_data(self, train_data, test_data):\n",
    "        X_train = train_data.drop([self.target_col], axis=1)\n",
    "        X_test = test_data.drop([self.target_col], axis=1)\n",
    "        y_train = train_data[[self.target_col]]\n",
    "        y_test = test_data[[self.target_col]]\n",
    "\n",
    "        # One-hot encode the target variable\n",
    "        y_train = to_categorical(y_train, num_classes=3)\n",
    "        y_test = to_categorical(y_test, num_classes=3)\n",
    "\n",
    "        logger.info(\"Preprocessing done.\")\n",
    "        return X_train, X_test, y_train, y_test\n",
    "\n",
    "    def build_custom_model(self, input_shape):\n",
    "        # Input layer\n",
    "        inputs = Input(shape=input_shape)\n",
    "\n",
    "        x = Conv2D(32, (1, 1), activation = \"relu\", padding = \"same\")(inputs)\n",
    "        x = Conv2D(64, (1, 1), activation = \"relu\", padding = \"same\")(x)\n",
    "        x = Conv2D(128, (1, 1), activation = \"relu\", padding = \"same\")(x)\n",
    "\n",
    "        x = Flatten()(x)\n",
    "\n",
    "        x = Dense(128, activation = \"relu\")(x)\n",
    "        outputs = Dense(3, activation = \"softmax\")(x)\n",
    "\n",
    "        # Build model\n",
    "        model = Model(inputs = inputs, outputs = outputs)\n",
    "        model.compile(optimizer = \"adam\", loss = \"categorical_crossentropy\", metrics = [\"accuracy\"])\n",
    "\n",
    "        return model\n",
    "\n",
    "    def train(self):\n",
    "        self.create_dir()\n",
    "\n",
    "        # Load data\n",
    "        train_data, test_data = self.load_data()\n",
    "\n",
    "        # Preprocess data\n",
    "        X_train, X_test, y_train, y_test = self.preprocess_data(train_data, test_data)\n",
    "\n",
    "        X_train = X_train.values.reshape(-1, X_train.shape[1], 1, 1)\n",
    "        X_test = X_test.values.reshape(-1, X_test.shape[1], 1, 1)\n",
    "\n",
    "        # Build and train model\n",
    "        model = self.build_custom_model(X_train.shape[1:])\n",
    "        model.fit(X_train, y_train, epochs = 10, batch_size = 128, validation_data = (X_test, y_test))\n",
    "\n",
    "        # Evaluate model\n",
    "        loss, accuracy = model.evaluate(X_test, y_test)\n",
    "        logger.info(f\"Model Accuracy: {accuracy:.4f}\")\n",
    "\n",
    "        # Save model weights\n",
    "        model.save_weights(f\"{self.dir_path}/model_cnn.h5\")\n",
    "        logger.info(\"Model saved.\")\n",
    "\n",
    "# Usage\n",
    "trainer = ModelTrainer(train_data_path, test_data_path, target_col, dir_path)\n",
    "trainer.train()\n"
   ]
  },
  {
   "cell_type": "code",
   "execution_count": null,
   "metadata": {},
   "outputs": [],
   "source": []
  },
  {
   "cell_type": "code",
   "execution_count": null,
   "metadata": {},
   "outputs": [],
   "source": []
  }
 ],
 "metadata": {
  "kernelspec": {
   "display_name": "Python 3",
   "language": "python",
   "name": "python3"
  },
  "language_info": {
   "codemirror_mode": {
    "name": "ipython",
    "version": 3
   },
   "file_extension": ".py",
   "mimetype": "text/x-python",
   "name": "python",
   "nbconvert_exporter": "python",
   "pygments_lexer": "ipython3",
   "version": "3.11.8"
  }
 },
 "nbformat": 4,
 "nbformat_minor": 2
}
