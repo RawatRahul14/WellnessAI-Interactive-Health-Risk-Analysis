{
 "cells": [
  {
   "cell_type": "code",
   "execution_count": 1,
   "metadata": {},
   "outputs": [
    {
     "data": {
      "text/plain": [
       "'c:\\\\Users\\\\rahul\\\\Desktop\\\\Project Sem 2\\\\Data viz Project 2\\\\WellnessAI-Interactive-Health-Risk-Analysis\\\\Research'"
      ]
     },
     "execution_count": 1,
     "metadata": {},
     "output_type": "execute_result"
    }
   ],
   "source": [
    "%pwd"
   ]
  },
  {
   "cell_type": "code",
   "execution_count": 2,
   "metadata": {},
   "outputs": [],
   "source": [
    "import os"
   ]
  },
  {
   "cell_type": "code",
   "execution_count": 3,
   "metadata": {},
   "outputs": [],
   "source": [
    "os.chdir(\"../\")"
   ]
  },
  {
   "cell_type": "code",
   "execution_count": 4,
   "metadata": {},
   "outputs": [
    {
     "data": {
      "text/plain": [
       "'c:\\\\Users\\\\rahul\\\\Desktop\\\\Project Sem 2\\\\Data viz Project 2\\\\WellnessAI-Interactive-Health-Risk-Analysis'"
      ]
     },
     "execution_count": 4,
     "metadata": {},
     "output_type": "execute_result"
    }
   ],
   "source": [
    "%pwd"
   ]
  },
  {
   "cell_type": "code",
   "execution_count": 5,
   "metadata": {},
   "outputs": [],
   "source": [
    "train_data_path = \"Dataset/Data_transformation/train.csv\"\n",
    "test_data_path = \"Dataset/Data_transformation/test.csv\"\n",
    "target_col = \"Diabetes_012\"\n",
    "dir_path = \"Dataset/Model_selection\""
   ]
  },
  {
   "cell_type": "code",
   "execution_count": 7,
   "metadata": {},
   "outputs": [
    {
     "name": "stdout",
     "output_type": "stream",
     "text": [
      "[2024-08-15 19:15:40,324: INFO: common: created directory at: Dataset/Model_selection]\n",
      "[2024-08-15 19:15:41,322: INFO: 1886888473: Data is loaded.]\n",
      "[2024-08-15 19:15:41,354: INFO: 1886888473: Preprocessing done.]\n",
      "Epoch 1/10\n",
      "2849/2849 [==============================] - 135s 46ms/step - loss: 0.9630 - accuracy: 0.5066 - val_loss: 0.8730 - val_accuracy: 0.5706\n",
      "Epoch 2/10\n",
      "2849/2849 [==============================] - 130s 46ms/step - loss: 0.8021 - accuracy: 0.6060 - val_loss: 0.7456 - val_accuracy: 0.6341\n",
      "Epoch 3/10\n",
      "2849/2849 [==============================] - 130s 46ms/step - loss: 0.7498 - accuracy: 0.6318 - val_loss: 0.7268 - val_accuracy: 0.6430\n",
      "Epoch 4/10\n",
      "2849/2849 [==============================] - 131s 46ms/step - loss: 0.7328 - accuracy: 0.6408 - val_loss: 0.7265 - val_accuracy: 0.6363\n",
      "Epoch 5/10\n",
      "2849/2849 [==============================] - 131s 46ms/step - loss: 0.7165 - accuracy: 0.6499 - val_loss: 0.7238 - val_accuracy: 0.6440\n",
      "Epoch 6/10\n",
      "2849/2849 [==============================] - 130s 46ms/step - loss: 0.6994 - accuracy: 0.6607 - val_loss: 0.6867 - val_accuracy: 0.6682\n",
      "Epoch 7/10\n",
      "2849/2849 [==============================] - 130s 46ms/step - loss: 0.6775 - accuracy: 0.6741 - val_loss: 0.6665 - val_accuracy: 0.6806\n",
      "Epoch 8/10\n",
      "2849/2849 [==============================] - 130s 46ms/step - loss: 0.6499 - accuracy: 0.6923 - val_loss: 0.6528 - val_accuracy: 0.6946\n",
      "Epoch 9/10\n",
      "2849/2849 [==============================] - 130s 46ms/step - loss: 0.6151 - accuracy: 0.7154 - val_loss: 0.5998 - val_accuracy: 0.7224\n",
      "Epoch 10/10\n",
      "2849/2849 [==============================] - 117s 41ms/step - loss: 0.5689 - accuracy: 0.7424 - val_loss: 0.5521 - val_accuracy: 0.7529\n",
      "2849/2849 [==============================] - 16s 5ms/step - loss: 0.5521 - accuracy: 0.7529\n",
      "[2024-08-15 19:37:32,188: INFO: 1886888473: Model Accuracy: 0.7529]\n",
      "[2024-08-15 19:37:32,203: INFO: 1886888473: Model saved.]\n"
     ]
    }
   ],
   "source": [
    "import numpy as np\n",
    "import pandas as pd\n",
    "from tensorflow.keras.models import Model\n",
    "from tensorflow.keras.layers import Input, LSTM, Dense, BatchNormalization, Dropout, Concatenate\n",
    "from tensorflow.keras.utils import to_categorical\n",
    "from ml_Project import logger\n",
    "from ml_Project.utils.common import create_directories\n",
    "\n",
    "class ModelTrainer:\n",
    "    def __init__(self, train_data_path, test_data_path, target_col, dir_path):\n",
    "        self.train_data_path = train_data_path\n",
    "        self.test_data_path = test_data_path\n",
    "        self.target_col = target_col\n",
    "        self.dir_path = dir_path\n",
    "\n",
    "    def create_dir(self):\n",
    "        create_directories([self.dir_path])\n",
    "\n",
    "    def load_data(self):\n",
    "        train_data = pd.read_csv(self.train_data_path)\n",
    "        test_data = pd.read_csv(self.test_data_path)\n",
    "        logger.info(\"Data is loaded.\")\n",
    "        return train_data, test_data\n",
    "\n",
    "    def preprocess_data(self, train_data, test_data):\n",
    "        X_train = train_data.drop([self.target_col], axis=1)\n",
    "        X_test = test_data.drop([self.target_col], axis=1)\n",
    "        y_train = train_data[[self.target_col]]\n",
    "        y_test = test_data[[self.target_col]]\n",
    "\n",
    "        # One-hot encode the target variable\n",
    "        y_train = to_categorical(y_train, num_classes=3)\n",
    "        y_test = to_categorical(y_test, num_classes=3)\n",
    "\n",
    "        logger.info(\"Preprocessing done.\")\n",
    "        return X_train, X_test, y_train, y_test\n",
    "\n",
    "    def build_custom_model(self, input_shape):\n",
    "        # Input layer\n",
    "        inputs = Input(shape=input_shape)\n",
    "\n",
    "        # RNN Layer\n",
    "        x = LSTM(128, return_sequences=True)(inputs)\n",
    "        x = LSTM(64)(x)\n",
    "\n",
    "        # Fully connected layers\n",
    "        x = Dense(128, activation=\"relu\")(x)\n",
    "        outputs = Dense(3, activation=\"softmax\")(x)\n",
    "\n",
    "        # Build model\n",
    "        model = Model(inputs=inputs, outputs=outputs)\n",
    "        model.compile(optimizer=\"adam\", loss=\"categorical_crossentropy\", metrics=[\"accuracy\"])\n",
    "\n",
    "        return model\n",
    "\n",
    "    def train(self):\n",
    "        self.create_dir()\n",
    "\n",
    "        # Load data\n",
    "        train_data, test_data = self.load_data()\n",
    "\n",
    "        # Preprocess data\n",
    "        X_train, X_test, y_train, y_test = self.preprocess_data(train_data, test_data)\n",
    "\n",
    "        X_train = X_train.values.reshape(-1, X_train.shape[1], 1)\n",
    "        X_test = X_test.values.reshape(-1, X_test.shape[1], 1)\n",
    "\n",
    "        # Build and train model\n",
    "        model = self.build_custom_model(X_train.shape[1:])\n",
    "        model.fit(X_train, y_train, epochs=10, batch_size=128, validation_data=(X_test, y_test))\n",
    "\n",
    "        # Evaluate model\n",
    "        loss, accuracy = model.evaluate(X_test, y_test)\n",
    "        logger.info(f\"Model Accuracy: {accuracy:.4f}\")\n",
    "\n",
    "        # Save model weights\n",
    "        model.save_weights(f\"{self.dir_path}/model_rnn.h5\")\n",
    "        logger.info(\"Model saved.\")\n",
    "\n",
    "# Usage\n",
    "trainer = ModelTrainer(train_data_path, test_data_path, target_col, dir_path)\n",
    "trainer.train()\n"
   ]
  },
  {
   "cell_type": "code",
   "execution_count": null,
   "metadata": {},
   "outputs": [],
   "source": []
  }
 ],
 "metadata": {
  "kernelspec": {
   "display_name": "Python 3",
   "language": "python",
   "name": "python3"
  },
  "language_info": {
   "codemirror_mode": {
    "name": "ipython",
    "version": 3
   },
   "file_extension": ".py",
   "mimetype": "text/x-python",
   "name": "python",
   "nbconvert_exporter": "python",
   "pygments_lexer": "ipython3",
   "version": "3.11.8"
  }
 },
 "nbformat": 4,
 "nbformat_minor": 2
}
