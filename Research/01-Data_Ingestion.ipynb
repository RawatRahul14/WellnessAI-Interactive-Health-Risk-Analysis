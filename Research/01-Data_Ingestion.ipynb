{
 "cells": [
  {
   "cell_type": "code",
   "execution_count": 1,
   "metadata": {},
   "outputs": [],
   "source": [
    "import os"
   ]
  },
  {
   "cell_type": "code",
   "execution_count": 2,
   "metadata": {},
   "outputs": [
    {
     "data": {
      "text/plain": [
       "'c:\\\\Users\\\\rahul\\\\Desktop\\\\Project Sem 2\\\\Data viz Project 2\\\\WellnessAI-Interactive-Health-Risk-Analysis\\\\Research'"
      ]
     },
     "execution_count": 2,
     "metadata": {},
     "output_type": "execute_result"
    }
   ],
   "source": [
    "%pwd"
   ]
  },
  {
   "cell_type": "code",
   "execution_count": 3,
   "metadata": {},
   "outputs": [],
   "source": [
    "os.chdir(\"../\")"
   ]
  },
  {
   "cell_type": "code",
   "execution_count": 4,
   "metadata": {},
   "outputs": [
    {
     "data": {
      "text/plain": [
       "'c:\\\\Users\\\\rahul\\\\Desktop\\\\Project Sem 2\\\\Data viz Project 2\\\\WellnessAI-Interactive-Health-Risk-Analysis'"
      ]
     },
     "execution_count": 4,
     "metadata": {},
     "output_type": "execute_result"
    }
   ],
   "source": [
    "%pwd"
   ]
  },
  {
   "cell_type": "code",
   "execution_count": 5,
   "metadata": {},
   "outputs": [],
   "source": [
    "from ml_Project import logger"
   ]
  },
  {
   "cell_type": "code",
   "execution_count": 6,
   "metadata": {},
   "outputs": [],
   "source": [
    "from urllib import request"
   ]
  },
  {
   "cell_type": "code",
   "execution_count": 14,
   "metadata": {},
   "outputs": [],
   "source": [
    "file_path = \"Dataset/Data_Ingestion/data.zip\"\n",
    "url = \"https://github.com/RawatRahul14/diabetes_dataset/raw/main/diabetes_dataset.zip\""
   ]
  },
  {
   "cell_type": "code",
   "execution_count": 15,
   "metadata": {},
   "outputs": [],
   "source": [
    "def download_file(file_path, url):\n",
    "    if not os.path.exists(file_path):\n",
    "        filename, headers = request.urlretrieve(\n",
    "            url = url,\n",
    "            filename = file_path\n",
    "        )\n",
    "        logger.info(f\"{filename} download! with the following info: \\n{headers}\")\n",
    "    else:\n",
    "        logger.info(f\"File already exists.\")"
   ]
  },
  {
   "cell_type": "code",
   "execution_count": 16,
   "metadata": {},
   "outputs": [],
   "source": [
    "import zipfile"
   ]
  },
  {
   "cell_type": "code",
   "execution_count": 17,
   "metadata": {},
   "outputs": [],
   "source": [
    "def extract_zip_file(unzip_filepath, file_path):\n",
    "    unzip_file_path = unzip_filepath\n",
    "    os.makedirs(unzip_file_path, exist_ok = True)\n",
    "    with zipfile.ZipFile(file_path, \"r\") as zip_ref:\n",
    "        zip_ref.extractall(unzip_file_path)"
   ]
  },
  {
   "cell_type": "code",
   "execution_count": 21,
   "metadata": {},
   "outputs": [
    {
     "name": "stdout",
     "output_type": "stream",
     "text": [
      "[2024-08-14 22:54:43,491: INFO: 511845020: Dataset/Data_Ingestion/data.zip download! with the following info: \n",
      "Connection: close\n",
      "Content-Length: 2448397\n",
      "Cache-Control: max-age=300\n",
      "Content-Security-Policy: default-src 'none'; style-src 'unsafe-inline'; sandbox\n",
      "Content-Type: application/zip\n",
      "ETag: \"3393456e13b74f010657bd4ee9b727136e895c9cfabc5f61dc8bed67fa7a5422\"\n",
      "Strict-Transport-Security: max-age=31536000\n",
      "X-Content-Type-Options: nosniff\n",
      "X-Frame-Options: deny\n",
      "X-XSS-Protection: 1; mode=block\n",
      "X-GitHub-Request-Id: 7656:3619D4:4A871F:519066:66BD6DF2\n",
      "Accept-Ranges: bytes\n",
      "Date: Thu, 15 Aug 2024 02:54:42 GMT\n",
      "Via: 1.1 varnish\n",
      "X-Served-By: cache-yyz4540-YYZ\n",
      "X-Cache: MISS\n",
      "X-Cache-Hits: 0\n",
      "X-Timer: S1723690482.484811,VS0,VE195\n",
      "Vary: Authorization,Accept-Encoding,Origin\n",
      "Access-Control-Allow-Origin: *\n",
      "Cross-Origin-Resource-Policy: cross-origin\n",
      "X-Fastly-Request-ID: d314a64acc3e68d092444d25ed09490a13aab49c\n",
      "Expires: Thu, 15 Aug 2024 02:59:42 GMT\n",
      "Source-Age: 0\n",
      "\n",
      "]\n"
     ]
    }
   ],
   "source": [
    "download_file(file_path, url)"
   ]
  },
  {
   "cell_type": "code",
   "execution_count": 22,
   "metadata": {},
   "outputs": [],
   "source": [
    "unzip_filepath = \"Dataset/Data_Ingestion\""
   ]
  },
  {
   "cell_type": "code",
   "execution_count": 23,
   "metadata": {},
   "outputs": [],
   "source": [
    "extract_zip_file(unzip_filepath, file_path)"
   ]
  },
  {
   "cell_type": "code",
   "execution_count": 25,
   "metadata": {},
   "outputs": [],
   "source": [
    "from ml_Project import logger\n",
    "from urllib import request\n",
    "import zipfile\n",
    "\n",
    "class DataIngestion:\n",
    "    def __init__(self, file_path, url, unzip_filepath):\n",
    "        self.file_path = file_path\n",
    "        self.url = url\n",
    "        self.unzip_filepath = unzip_filepath\n",
    "\n",
    "    def download_file(self):\n",
    "        if not os.path.exists(self.file_path):\n",
    "            filename, headers = request.urlretrieve(\n",
    "                url = self.url,\n",
    "                filename = self.file_path\n",
    "            )\n",
    "            logger.info(f\"{filename} download! with the following info: \\n{headers}\")\n",
    "        else:\n",
    "            logger.info(f\"File already exists.\")\n",
    "\n",
    "    def extract_zip_file(self):\n",
    "        unzip_file_path = self.unzip_filepath\n",
    "        os.makedirs(unzip_file_path, exist_ok = True)\n",
    "        with zipfile.ZipFile(self.file_path, \"r\") as zip_ref:\n",
    "            zip_ref.extractall(unzip_file_path)"
   ]
  },
  {
   "cell_type": "code",
   "execution_count": 26,
   "metadata": {},
   "outputs": [],
   "source": [
    "file_path = \"Dataset/Data_Ingestion/data.zip\"\n",
    "url = \"https://github.com/RawatRahul14/diabetes_dataset/raw/main/diabetes_dataset.zip\"\n",
    "unzip_filepath = \"Dataset/Data_Ingestion\""
   ]
  },
  {
   "cell_type": "code",
   "execution_count": 27,
   "metadata": {},
   "outputs": [
    {
     "name": "stdout",
     "output_type": "stream",
     "text": [
      "[2024-08-14 23:01:37,634: INFO: 3698486501: Dataset/Data_Ingestion/data.zip download! with the following info: \n",
      "Connection: close\n",
      "Content-Length: 2448397\n",
      "Cache-Control: max-age=300\n",
      "Content-Security-Policy: default-src 'none'; style-src 'unsafe-inline'; sandbox\n",
      "Content-Type: application/zip\n",
      "ETag: \"3393456e13b74f010657bd4ee9b727136e895c9cfabc5f61dc8bed67fa7a5422\"\n",
      "Strict-Transport-Security: max-age=31536000\n",
      "X-Content-Type-Options: nosniff\n",
      "X-Frame-Options: deny\n",
      "X-XSS-Protection: 1; mode=block\n",
      "X-GitHub-Request-Id: 7656:3619D4:4A871F:519066:66BD6DF2\n",
      "Accept-Ranges: bytes\n",
      "Date: Thu, 15 Aug 2024 03:01:36 GMT\n",
      "Via: 1.1 varnish\n",
      "X-Served-By: cache-yyz4523-YYZ\n",
      "X-Cache: HIT\n",
      "X-Cache-Hits: 0\n",
      "X-Timer: S1723690896.235555,VS0,VE98\n",
      "Vary: Authorization,Accept-Encoding,Origin\n",
      "Access-Control-Allow-Origin: *\n",
      "Cross-Origin-Resource-Policy: cross-origin\n",
      "X-Fastly-Request-ID: 2906d2790a342bdbbe16117334fad95948618455\n",
      "Expires: Thu, 15 Aug 2024 03:06:36 GMT\n",
      "Source-Age: 0\n",
      "\n",
      "]\n"
     ]
    }
   ],
   "source": [
    "try:\n",
    "    data_ingestion = DataIngestion(file_path = file_path,\n",
    "                                   url = url,\n",
    "                                   unzip_filepath = unzip_filepath)\n",
    "    \n",
    "    data_ingestion.download_file()\n",
    "    data_ingestion.extract_zip_file()\n",
    "except Exception as e:\n",
    "    raise e"
   ]
  },
  {
   "cell_type": "code",
   "execution_count": null,
   "metadata": {},
   "outputs": [],
   "source": []
  }
 ],
 "metadata": {
  "kernelspec": {
   "display_name": "Python 3",
   "language": "python",
   "name": "python3"
  },
  "language_info": {
   "codemirror_mode": {
    "name": "ipython",
    "version": 3
   },
   "file_extension": ".py",
   "mimetype": "text/x-python",
   "name": "python",
   "nbconvert_exporter": "python",
   "pygments_lexer": "ipython3",
   "version": "3.11.8"
  }
 },
 "nbformat": 4,
 "nbformat_minor": 2
}
