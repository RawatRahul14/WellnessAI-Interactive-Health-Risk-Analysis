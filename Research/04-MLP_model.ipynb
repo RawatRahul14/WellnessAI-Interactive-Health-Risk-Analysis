{
 "cells": [
  {
   "cell_type": "code",
   "execution_count": 1,
   "metadata": {},
   "outputs": [
    {
     "data": {
      "text/plain": [
       "'c:\\\\Users\\\\rahul\\\\Desktop\\\\Project Sem 2\\\\Data viz Project 2\\\\WellnessAI-Interactive-Health-Risk-Analysis\\\\Research'"
      ]
     },
     "execution_count": 1,
     "metadata": {},
     "output_type": "execute_result"
    }
   ],
   "source": [
    "%pwd"
   ]
  },
  {
   "cell_type": "code",
   "execution_count": 2,
   "metadata": {},
   "outputs": [],
   "source": [
    "import os"
   ]
  },
  {
   "cell_type": "code",
   "execution_count": 3,
   "metadata": {},
   "outputs": [],
   "source": [
    "os.chdir(\"../\")"
   ]
  },
  {
   "cell_type": "code",
   "execution_count": 4,
   "metadata": {},
   "outputs": [
    {
     "data": {
      "text/plain": [
       "'c:\\\\Users\\\\rahul\\\\Desktop\\\\Project Sem 2\\\\Data viz Project 2\\\\WellnessAI-Interactive-Health-Risk-Analysis'"
      ]
     },
     "execution_count": 4,
     "metadata": {},
     "output_type": "execute_result"
    }
   ],
   "source": [
    "%pwd"
   ]
  },
  {
   "cell_type": "code",
   "execution_count": 16,
   "metadata": {},
   "outputs": [],
   "source": [
    "dir_path = \"Dataset/Model_selection\""
   ]
  },
  {
   "cell_type": "code",
   "execution_count": 5,
   "metadata": {},
   "outputs": [],
   "source": [
    "from ml_Project.utils.common import create_directories"
   ]
  },
  {
   "cell_type": "code",
   "execution_count": 17,
   "metadata": {},
   "outputs": [],
   "source": [
    "def create_dir(dir_path):\n",
    "    create_directories([dir_path])"
   ]
  },
  {
   "cell_type": "code",
   "execution_count": 21,
   "metadata": {},
   "outputs": [
    {
     "name": "stdout",
     "output_type": "stream",
     "text": [
      "[2024-08-15 13:58:14,422: INFO: common: created directory at: Dataset/Model_selection]\n"
     ]
    }
   ],
   "source": [
    "create_dir(dir_path)"
   ]
  },
  {
   "cell_type": "code",
   "execution_count": 12,
   "metadata": {},
   "outputs": [],
   "source": [
    "import numpy as np\n",
    "import pandas as pd"
   ]
  },
  {
   "cell_type": "code",
   "execution_count": null,
   "metadata": {},
   "outputs": [],
   "source": [
    "import numpy as np\n",
    "import pandas as pd\n",
    "from sklearn.model_selection import train_test_split\n",
    "from sklearn.preprocessing import StandardScaler\n",
    "from sklearn.metrics import classification_report\n",
    "from tensorflow.keras.models import Model\n",
    "from tensorflow.keras.layers import Input, Dense, Concatenate\n",
    "from tensorflow.keras.utils import to_categorical"
   ]
  },
  {
   "cell_type": "code",
   "execution_count": 13,
   "metadata": {},
   "outputs": [],
   "source": [
    "train_data_path = \"Dataset/Data_transformation/train.csv\"\n",
    "test_data_path = \"Dataset/Data_transformation/test.csv\"\n",
    "target_col = \"Diabetes_012\"\n",
    "dir_path = \"Dataset/Model_selection\""
   ]
  },
  {
   "cell_type": "code",
   "execution_count": 36,
   "metadata": {},
   "outputs": [],
   "source": [
    "import os\n",
    "import json\n",
    "\n",
    "class ModelTrainer:\n",
    "    def __init__(self, train_data_path, test_data_path, target_col, dir_path):\n",
    "        self.train_data_path = train_data_path\n",
    "        self.test_data_path = test_data_path\n",
    "        self.target_col = target_col\n",
    "        self.dir_path = dir_path\n",
    "\n",
    "    def create_dir(self):\n",
    "        create_directories([self.dir_path])\n",
    "\n",
    "    def load_data(self):\n",
    "        train_data = pd.read_csv(self.train_data_path)\n",
    "        test_data = pd.read_csv(self.test_data_path)\n",
    "        return train_data, test_data\n",
    "\n",
    "    def preprocess_data(self, train_data, test_data):\n",
    "        X_train = train_data.drop([self.target_col], axis=1)\n",
    "        X_test = test_data.drop([self.target_col], axis=1)\n",
    "        y_train = train_data[[self.target_col]]\n",
    "        y_test = test_data[[self.target_col]]\n",
    "\n",
    "        # One-hot encode the target variable\n",
    "        y_train = to_categorical(y_train, num_classes=3)\n",
    "        y_test = to_categorical(y_test, num_classes=3)\n",
    "\n",
    "        return X_train, X_test, y_train, y_test\n",
    "\n",
    "    def build_custom_model(self, input_shape):\n",
    "        # Input layer\n",
    "        inputs = Input(shape=input_shape)\n",
    "\n",
    "        # Branch 1\n",
    "        x1 = Dense(128, activation=\"relu\")(inputs)\n",
    "        x1 = Dense(128, activation=\"relu\")(x1)\n",
    "        x1 = Dense(64, activation=\"relu\")(x1)\n",
    "\n",
    "        # Branch 2\n",
    "        x2 = Dense(128, activation=\"relu\")(inputs)\n",
    "        x2 = Dense(128, activation=\"relu\")(x2)\n",
    "        x2 = Dense(64, activation=\"relu\")(x2)\n",
    "\n",
    "        # Branch 3\n",
    "        x3 = Dense(128, activation=\"relu\")(inputs)\n",
    "        x3 = Dense(128, activation=\"relu\")(x3)\n",
    "        x3 = Dense(64, activation=\"relu\")(x3)\n",
    "\n",
    "        # Branch 4\n",
    "        x4 = Dense(128, activation=\"relu\")(inputs)\n",
    "        x4 = Dense(128, activation=\"relu\")(x4)\n",
    "        x4 = Dense(64, activation=\"relu\")(x4)\n",
    "\n",
    "        # Combine branches\n",
    "        combined = Concatenate()([x1, x2, x3, x4])\n",
    "\n",
    "        # Fully connected layers\n",
    "        x = Dense(256, activation=\"relu\")(combined)\n",
    "        x = Dense(256, activation=\"relu\")(x)\n",
    "        outputs = Dense(3, activation=\"softmax\")(x)\n",
    "\n",
    "        # Build model\n",
    "        model = Model(inputs=inputs, outputs=outputs)\n",
    "        model.compile(optimizer=\"adam\", loss=\"categorical_crossentropy\", metrics=[\"accuracy\"])\n",
    "\n",
    "        return model\n",
    "\n",
    "    def train(self):\n",
    "\n",
    "        self.create_dir()\n",
    "\n",
    "        # Load data\n",
    "        train_data, test_data = self.load_data()\n",
    "\n",
    "        # Preprocess data\n",
    "        X_train, X_test, y_train, y_test = self.preprocess_data(train_data, test_data)\n",
    "\n",
    "        # Build and train model\n",
    "        model = self.build_custom_model((X_train.shape[1], ))\n",
    "\n",
    "        # Train the model and save history\n",
    "        history = model.fit(X_train, y_train, epochs=30, batch_size=128, validation_data=(X_test, y_test))\n",
    "\n",
    "        # Evaluate model\n",
    "        loss, accuracy = model.evaluate(X_test, y_test)\n",
    "        print(f\"Model Accuracy: {accuracy:.4f}\")\n",
    "\n",
    "        # Save model weights\n",
    "        model.save_weights(os.path.join(self.dir_path, \"model_mlp.h5\"))\n",
    "\n",
    "        # Save history\n",
    "        history_dict = history.history\n",
    "        history_path = os.path.join(self.dir_path, \"training_history.json\")\n",
    "        with open(history_path, 'w') as f:\n",
    "            json.dump(history_dict, f)\n",
    "\n",
    "        print(f\"Training history saved to {history_path}\")"
   ]
  },
  {
   "cell_type": "code",
   "execution_count": 37,
   "metadata": {},
   "outputs": [
    {
     "name": "stdout",
     "output_type": "stream",
     "text": [
      "Epoch 1/30\n",
      "2849/2849 [==============================] - 11s 3ms/step - loss: 0.9560 - accuracy: 0.5161 - val_loss: 0.9066 - val_accuracy: 0.5560\n",
      "Epoch 2/30\n",
      "2849/2849 [==============================] - 8s 3ms/step - loss: 0.8561 - accuracy: 0.5868 - val_loss: 0.8349 - val_accuracy: 0.6032\n",
      "Epoch 3/30\n",
      "2849/2849 [==============================] - 8s 3ms/step - loss: 0.7591 - accuracy: 0.6411 - val_loss: 0.7253 - val_accuracy: 0.6635\n",
      "Epoch 4/30\n",
      "2849/2849 [==============================] - 8s 3ms/step - loss: 0.6867 - accuracy: 0.6806 - val_loss: 0.6440 - val_accuracy: 0.7030\n",
      "Epoch 5/30\n",
      "2849/2849 [==============================] - 8s 3ms/step - loss: 0.6240 - accuracy: 0.7168 - val_loss: 0.5924 - val_accuracy: 0.7336\n",
      "Epoch 6/30\n",
      "2849/2849 [==============================] - 8s 3ms/step - loss: 0.5665 - accuracy: 0.7455 - val_loss: 0.5560 - val_accuracy: 0.7540\n",
      "Epoch 7/30\n",
      "2849/2849 [==============================] - 8s 3ms/step - loss: 0.5190 - accuracy: 0.7700 - val_loss: 0.5114 - val_accuracy: 0.7732\n",
      "Epoch 8/30\n",
      "2849/2849 [==============================] - 8s 3ms/step - loss: 0.4798 - accuracy: 0.7887 - val_loss: 0.4805 - val_accuracy: 0.7900\n",
      "Epoch 9/30\n",
      "2849/2849 [==============================] - 9s 3ms/step - loss: 0.4443 - accuracy: 0.8050 - val_loss: 0.4702 - val_accuracy: 0.7971\n",
      "Epoch 10/30\n",
      "2849/2849 [==============================] - 8s 3ms/step - loss: 0.4203 - accuracy: 0.8171 - val_loss: 0.4313 - val_accuracy: 0.8131\n",
      "Epoch 11/30\n",
      "2849/2849 [==============================] - 8s 3ms/step - loss: 0.3980 - accuracy: 0.8271 - val_loss: 0.4259 - val_accuracy: 0.8138\n",
      "Epoch 12/30\n",
      "2849/2849 [==============================] - 8s 3ms/step - loss: 0.3790 - accuracy: 0.8355 - val_loss: 0.4351 - val_accuracy: 0.8137\n",
      "Epoch 13/30\n",
      "2849/2849 [==============================] - 8s 3ms/step - loss: 0.3641 - accuracy: 0.8423 - val_loss: 0.3926 - val_accuracy: 0.8305\n",
      "Epoch 14/30\n",
      "2849/2849 [==============================] - 8s 3ms/step - loss: 0.3482 - accuracy: 0.8502 - val_loss: 0.3903 - val_accuracy: 0.8329\n",
      "Epoch 15/30\n",
      "2849/2849 [==============================] - 9s 3ms/step - loss: 0.3394 - accuracy: 0.8537 - val_loss: 0.3881 - val_accuracy: 0.8360\n",
      "Epoch 16/30\n",
      "2849/2849 [==============================] - 9s 3ms/step - loss: 0.3262 - accuracy: 0.8597 - val_loss: 0.3741 - val_accuracy: 0.8414\n",
      "Epoch 17/30\n",
      "2849/2849 [==============================] - 9s 3ms/step - loss: 0.3169 - accuracy: 0.8636 - val_loss: 0.3702 - val_accuracy: 0.8454\n",
      "Epoch 18/30\n",
      "2849/2849 [==============================] - 8s 3ms/step - loss: 0.3076 - accuracy: 0.8683 - val_loss: 0.3558 - val_accuracy: 0.8481\n",
      "Epoch 19/30\n",
      "2849/2849 [==============================] - 8s 3ms/step - loss: 0.3003 - accuracy: 0.8711 - val_loss: 0.3589 - val_accuracy: 0.8478\n",
      "Epoch 20/30\n",
      "2849/2849 [==============================] - 8s 3ms/step - loss: 0.2936 - accuracy: 0.8740 - val_loss: 0.3423 - val_accuracy: 0.8572\n",
      "Epoch 21/30\n",
      "2849/2849 [==============================] - 8s 3ms/step - loss: 0.2856 - accuracy: 0.8775 - val_loss: 0.3376 - val_accuracy: 0.8576\n",
      "Epoch 22/30\n",
      "2849/2849 [==============================] - 8s 3ms/step - loss: 0.2790 - accuracy: 0.8809 - val_loss: 0.3643 - val_accuracy: 0.8504\n",
      "Epoch 23/30\n",
      "2849/2849 [==============================] - 8s 3ms/step - loss: 0.2730 - accuracy: 0.8832 - val_loss: 0.3195 - val_accuracy: 0.8661\n",
      "Epoch 24/30\n",
      "2849/2849 [==============================] - 8s 3ms/step - loss: 0.2665 - accuracy: 0.8860 - val_loss: 0.3438 - val_accuracy: 0.8569\n",
      "Epoch 25/30\n",
      "2849/2849 [==============================] - 8s 3ms/step - loss: 0.2610 - accuracy: 0.8887 - val_loss: 0.3235 - val_accuracy: 0.8648\n",
      "Epoch 26/30\n",
      "2849/2849 [==============================] - 8s 3ms/step - loss: 0.2565 - accuracy: 0.8903 - val_loss: 0.3318 - val_accuracy: 0.8638\n",
      "Epoch 27/30\n",
      "2849/2849 [==============================] - 8s 3ms/step - loss: 0.2512 - accuracy: 0.8928 - val_loss: 0.3263 - val_accuracy: 0.8635\n",
      "Epoch 28/30\n",
      "2849/2849 [==============================] - 8s 3ms/step - loss: 0.2484 - accuracy: 0.8948 - val_loss: 0.3144 - val_accuracy: 0.8704\n",
      "Epoch 29/30\n",
      "2849/2849 [==============================] - 8s 3ms/step - loss: 0.2419 - accuracy: 0.8974 - val_loss: 0.3196 - val_accuracy: 0.8693\n",
      "Epoch 30/30\n",
      "2849/2849 [==============================] - 11s 4ms/step - loss: 0.2366 - accuracy: 0.8998 - val_loss: 0.3235 - val_accuracy: 0.8690\n",
      "2849/2849 [==============================] - 4s 1ms/step - loss: 0.3235 - accuracy: 0.8690\n",
      "Model Accuracy: 0.8690\n"
     ]
    }
   ],
   "source": [
    "trainer = ModelTrainer(train_data_path, test_data_path, target_col)\n",
    "trainer.train()"
   ]
  },
  {
   "cell_type": "code",
   "execution_count": null,
   "metadata": {},
   "outputs": [],
   "source": []
  }
 ],
 "metadata": {
  "kernelspec": {
   "display_name": "Python 3",
   "language": "python",
   "name": "python3"
  },
  "language_info": {
   "codemirror_mode": {
    "name": "ipython",
    "version": 3
   },
   "file_extension": ".py",
   "mimetype": "text/x-python",
   "name": "python",
   "nbconvert_exporter": "python",
   "pygments_lexer": "ipython3",
   "version": "3.11.8"
  }
 },
 "nbformat": 4,
 "nbformat_minor": 2
}
