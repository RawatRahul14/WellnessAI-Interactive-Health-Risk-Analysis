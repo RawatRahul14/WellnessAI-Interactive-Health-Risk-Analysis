{
 "cells": [
  {
   "cell_type": "code",
   "execution_count": 1,
   "metadata": {},
   "outputs": [
    {
     "data": {
      "text/plain": [
       "'c:\\\\Users\\\\rahul\\\\Desktop\\\\Project Sem 2\\\\Data viz Project 2\\\\WellnessAI-Interactive-Health-Risk-Analysis\\\\Research'"
      ]
     },
     "execution_count": 1,
     "metadata": {},
     "output_type": "execute_result"
    }
   ],
   "source": [
    "%pwd"
   ]
  },
  {
   "cell_type": "code",
   "execution_count": 2,
   "metadata": {},
   "outputs": [],
   "source": [
    "import os"
   ]
  },
  {
   "cell_type": "code",
   "execution_count": 3,
   "metadata": {},
   "outputs": [],
   "source": [
    "os.chdir(\"../\")"
   ]
  },
  {
   "cell_type": "code",
   "execution_count": 4,
   "metadata": {},
   "outputs": [
    {
     "data": {
      "text/plain": [
       "'c:\\\\Users\\\\rahul\\\\Desktop\\\\Project Sem 2\\\\Data viz Project 2\\\\WellnessAI-Interactive-Health-Risk-Analysis'"
      ]
     },
     "execution_count": 4,
     "metadata": {},
     "output_type": "execute_result"
    }
   ],
   "source": [
    "%pwd"
   ]
  },
  {
   "cell_type": "code",
   "execution_count": 11,
   "metadata": {},
   "outputs": [],
   "source": [
    "dir_path = \"Model_weights/Model_selection\""
   ]
  },
  {
   "cell_type": "code",
   "execution_count": 6,
   "metadata": {},
   "outputs": [],
   "source": [
    "from ml_Project.utils.common import create_directories"
   ]
  },
  {
   "cell_type": "code",
   "execution_count": 13,
   "metadata": {},
   "outputs": [],
   "source": [
    "def create_dir(dir_path):\n",
    "    create_directories([dir_path])"
   ]
  },
  {
   "cell_type": "code",
   "execution_count": 14,
   "metadata": {},
   "outputs": [
    {
     "name": "stdout",
     "output_type": "stream",
     "text": [
      "[2024-08-21 16:07:49,393: INFO: common: created directory at: Model_weights/Model_selection]\n"
     ]
    }
   ],
   "source": [
    "create_dir(dir_path)"
   ]
  },
  {
   "cell_type": "code",
   "execution_count": 20,
   "metadata": {},
   "outputs": [],
   "source": [
    "import numpy as np\n",
    "import pandas as pd\n",
    "from sklearn.model_selection import train_test_split\n",
    "from sklearn.preprocessing import StandardScaler\n",
    "from sklearn.metrics import classification_report\n",
    "from tensorflow.keras.models import Model\n",
    "from tensorflow.keras.layers import Input, Dense, Concatenate, BatchNormalization, Dropout, add\n",
    "from tensorflow.keras.utils import to_categorical\n",
    "import json"
   ]
  },
  {
   "cell_type": "code",
   "execution_count": 36,
   "metadata": {},
   "outputs": [],
   "source": [
    "train_data_path = \"Dataset/Data_transformation/train.csv\"\n",
    "test_data_path = \"Dataset/Data_transformation/test.csv\"\n",
    "target_col = \"Diabetes_012\"\n",
    "dir_path = \"Model_weights/Model_selection\"\n",
    "history_filepath = \"History\""
   ]
  },
  {
   "cell_type": "code",
   "execution_count": 37,
   "metadata": {},
   "outputs": [],
   "source": [
    "import numpy as np\n",
    "import pandas as pd\n",
    "import json\n",
    "from tensorflow.keras.models import Model\n",
    "from tensorflow.keras.layers import Input, Dense, BatchNormalization, Dropout, add\n",
    "from tensorflow.keras.utils import to_categorical\n",
    "\n",
    "class ModelTrainer:\n",
    "    def __init__(self, train_data_path, test_data_path, target_col, dir_path, history_filepath):\n",
    "        self.train_data_path = train_data_path\n",
    "        self.test_data_path = test_data_path\n",
    "        self.target_col = target_col\n",
    "        self.dir_path = dir_path\n",
    "        self.history_filepath = history_filepath\n",
    "\n",
    "    def create_dir(self):\n",
    "        create_directories([self.dir_path])\n",
    "        create_directories([self.history_filepath])\n",
    "\n",
    "    def load_data(self):\n",
    "        train_data = pd.read_csv(self.train_data_path)\n",
    "        test_data = pd.read_csv(self.test_data_path)\n",
    "        return train_data, test_data\n",
    "\n",
    "    def preprocess_data(self, train_data, test_data):\n",
    "        X_train = train_data.drop([self.target_col], axis = 1)\n",
    "        X_test = test_data.drop([self.target_col], axis = 1)\n",
    "        y_train = train_data[[self.target_col]]\n",
    "        y_test = test_data[[self.target_col]]\n",
    "\n",
    "        # One-hot encode the target variable\n",
    "        y_train = to_categorical(y_train, num_classes=3)\n",
    "        y_test = to_categorical(y_test, num_classes=3)\n",
    "\n",
    "        return X_train, X_test, y_train, y_test\n",
    "\n",
    "    def build_custom_model(self, input_shape):\n",
    "        # Input layer\n",
    "        inputs = Input(shape=input_shape)\n",
    "\n",
    "        # Layer 1\n",
    "        x = Dense(128, activation = \"relu\")(inputs)\n",
    "        x = BatchNormalization()(x)\n",
    "        x = Dropout(0.4)(x)\n",
    "\n",
    "        # Layer 2\n",
    "        x = Dense(256, activation = \"relu\")(x)\n",
    "        x = BatchNormalization()(x)\n",
    "        x = Dropout(0.4)(x)\n",
    "\n",
    "        # Layer 3\n",
    "        x = Dense(256, activation = \"relu\")(x)\n",
    "        x = BatchNormalization()(x)\n",
    "        x = Dropout(0.4)(x)\n",
    "        \n",
    "        # Output layer\n",
    "        outputs = Dense(3, activation = \"softmax\")(x)\n",
    "\n",
    "        # Build model\n",
    "        model = Model(inputs=inputs, outputs=outputs)\n",
    "        model.compile(optimizer = \"adam\", loss = \"categorical_crossentropy\", metrics = [\"accuracy\"])\n",
    "\n",
    "        return model\n",
    "\n",
    "    def train(self):\n",
    "\n",
    "        self.create_dir()\n",
    "\n",
    "        # Load data\n",
    "        train_data, test_data = self.load_data()\n",
    "\n",
    "        # Preprocess data\n",
    "        X_train, X_test, y_train, y_test = self.preprocess_data(train_data, test_data)\n",
    "\n",
    "        # Build and train model\n",
    "        model = self.build_custom_model((X_train.shape[1], ))\n",
    "        history = model.fit(X_train, y_train, epochs = 1, batch_size = 128, validation_data = (X_test, y_test))\n",
    "\n",
    "        # Evaluate model\n",
    "        loss, accuracy = model.evaluate(X_test, y_test)\n",
    "        print(f\"Model Accuracy: {accuracy:.4f}\")\n",
    "\n",
    "        # Save model weights\n",
    "        model.save_weights(self.dir_path + \"/model_2_mlp.h5\")\n",
    "\n",
    "        # Save history\n",
    "        history_dict = history.history\n",
    "        history_path = os.path.join(self.history_filepath, \"training_history_model_2.json\")\n",
    "        with open(history_path, 'w') as f:\n",
    "            json.dump(history_dict, f)\n",
    "\n",
    "        print(f\"Training history saved to {history_path}\")"
   ]
  },
  {
   "cell_type": "code",
   "execution_count": 38,
   "metadata": {},
   "outputs": [
    {
     "name": "stdout",
     "output_type": "stream",
     "text": [
      "[2024-08-21 16:38:40,824: INFO: common: created directory at: Model_weights/Model_selection]\n",
      "[2024-08-21 16:38:40,826: INFO: common: created directory at: History]\n",
      "2849/2849 [==============================] - 139s 48ms/step - loss: 0.9769 - accuracy: 0.5096 - val_loss: 0.9436 - val_accuracy: 0.5344\n",
      "2849/2849 [==============================] - 17s 6ms/step - loss: 0.9436 - accuracy: 0.5344\n",
      "Model Accuracy: 0.5344\n",
      "Training history saved to History\\training_history_model_2.json\n"
     ]
    }
   ],
   "source": [
    "try:\n",
    "    trainer = ModelTrainer(train_data_path,\n",
    "                           test_data_path,\n",
    "                           target_col,\n",
    "                           dir_path,\n",
    "                           history_filepath)\n",
    "    \n",
    "    trainer.train()\n",
    "except Exception as e:\n",
    "    raise e"
   ]
  },
  {
   "cell_type": "code",
   "execution_count": null,
   "metadata": {},
   "outputs": [],
   "source": []
  }
 ],
 "metadata": {
  "kernelspec": {
   "display_name": "Python 3",
   "language": "python",
   "name": "python3"
  },
  "language_info": {
   "codemirror_mode": {
    "name": "ipython",
    "version": 3
   },
   "file_extension": ".py",
   "mimetype": "text/x-python",
   "name": "python",
   "nbconvert_exporter": "python",
   "pygments_lexer": "ipython3",
   "version": "3.11.8"
  }
 },
 "nbformat": 4,
 "nbformat_minor": 2
}
